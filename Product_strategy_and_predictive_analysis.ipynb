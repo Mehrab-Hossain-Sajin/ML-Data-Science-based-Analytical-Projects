{
  "nbformat": 4,
  "nbformat_minor": 0,
  "metadata": {
    "colab": {
      "provenance": []
    },
    "kernelspec": {
      "name": "python3",
      "display_name": "Python 3"
    },
    "language_info": {
      "name": "python"
    }
  },
  "cells": [
    {
      "cell_type": "markdown",
      "source": [
        "This a ML based solution for a problem given in an AI contest organised by METI, funded by Government of Japan."
      ],
      "metadata": {
        "id": "3t-mEZXA7M6L"
      }
    },
    {
      "cell_type": "code",
      "execution_count": 28,
      "metadata": {
        "id": "aU8ixFYUOt_z"
      },
      "outputs": [],
      "source": [
        "import pandas as pd\n",
        "import numpy as np\n",
        "import matplotlib.pyplot as plt\n",
        "import seaborn as san"
      ]
    },
    {
      "cell_type": "code",
      "source": [
        "from google.colab import drive\n",
        "drive.mount('/content/drive')"
      ],
      "metadata": {
        "colab": {
          "base_uri": "https://localhost:8080/"
        },
        "id": "CTCbkB6-O978",
        "outputId": "d9b0233b-026e-476c-c971-e05494debbce"
      },
      "execution_count": 29,
      "outputs": [
        {
          "output_type": "stream",
          "name": "stdout",
          "text": [
            "Drive already mounted at /content/drive; to attempt to forcibly remount, call drive.mount(\"/content/drive\", force_remount=True).\n"
          ]
        }
      ]
    },
    {
      "cell_type": "code",
      "source": [
        "df = pd.read_csv(\"/content/drive/MyDrive/Dataset/synthetic_wtp_laptop_data.csv\")\n",
        "df.head()"
      ],
      "metadata": {
        "colab": {
          "base_uri": "https://localhost:8080/",
          "height": 206
        },
        "id": "V0BGU0c4O-G6",
        "outputId": "130c3267-065c-4c34-e61e-dbe2d499d8b6"
      },
      "execution_count": 30,
      "outputs": [
        {
          "output_type": "execute_result",
          "data": {
            "text/plain": [
              "   Memory  Storage  CPU_class  Screen_size  year   price\n",
              "0       8     1024          3         16.0  2025  162021\n",
              "1      32     1024          0         16.0  2024  112214\n",
              "2      16      512          1         16.0  2025  118354\n",
              "3      16     1024          1         16.0  2025  123383\n",
              "4      16      256          3         16.0  2024  162968"
            ],
            "text/html": [
              "\n",
              "  <div id=\"df-d58cfbeb-6a85-45d2-9c26-91b97878ce24\" class=\"colab-df-container\">\n",
              "    <div>\n",
              "<style scoped>\n",
              "    .dataframe tbody tr th:only-of-type {\n",
              "        vertical-align: middle;\n",
              "    }\n",
              "\n",
              "    .dataframe tbody tr th {\n",
              "        vertical-align: top;\n",
              "    }\n",
              "\n",
              "    .dataframe thead th {\n",
              "        text-align: right;\n",
              "    }\n",
              "</style>\n",
              "<table border=\"1\" class=\"dataframe\">\n",
              "  <thead>\n",
              "    <tr style=\"text-align: right;\">\n",
              "      <th></th>\n",
              "      <th>Memory</th>\n",
              "      <th>Storage</th>\n",
              "      <th>CPU_class</th>\n",
              "      <th>Screen_size</th>\n",
              "      <th>year</th>\n",
              "      <th>price</th>\n",
              "    </tr>\n",
              "  </thead>\n",
              "  <tbody>\n",
              "    <tr>\n",
              "      <th>0</th>\n",
              "      <td>8</td>\n",
              "      <td>1024</td>\n",
              "      <td>3</td>\n",
              "      <td>16.0</td>\n",
              "      <td>2025</td>\n",
              "      <td>162021</td>\n",
              "    </tr>\n",
              "    <tr>\n",
              "      <th>1</th>\n",
              "      <td>32</td>\n",
              "      <td>1024</td>\n",
              "      <td>0</td>\n",
              "      <td>16.0</td>\n",
              "      <td>2024</td>\n",
              "      <td>112214</td>\n",
              "    </tr>\n",
              "    <tr>\n",
              "      <th>2</th>\n",
              "      <td>16</td>\n",
              "      <td>512</td>\n",
              "      <td>1</td>\n",
              "      <td>16.0</td>\n",
              "      <td>2025</td>\n",
              "      <td>118354</td>\n",
              "    </tr>\n",
              "    <tr>\n",
              "      <th>3</th>\n",
              "      <td>16</td>\n",
              "      <td>1024</td>\n",
              "      <td>1</td>\n",
              "      <td>16.0</td>\n",
              "      <td>2025</td>\n",
              "      <td>123383</td>\n",
              "    </tr>\n",
              "    <tr>\n",
              "      <th>4</th>\n",
              "      <td>16</td>\n",
              "      <td>256</td>\n",
              "      <td>3</td>\n",
              "      <td>16.0</td>\n",
              "      <td>2024</td>\n",
              "      <td>162968</td>\n",
              "    </tr>\n",
              "  </tbody>\n",
              "</table>\n",
              "</div>\n",
              "    <div class=\"colab-df-buttons\">\n",
              "\n",
              "  <div class=\"colab-df-container\">\n",
              "    <button class=\"colab-df-convert\" onclick=\"convertToInteractive('df-d58cfbeb-6a85-45d2-9c26-91b97878ce24')\"\n",
              "            title=\"Convert this dataframe to an interactive table.\"\n",
              "            style=\"display:none;\">\n",
              "\n",
              "  <svg xmlns=\"http://www.w3.org/2000/svg\" height=\"24px\" viewBox=\"0 -960 960 960\">\n",
              "    <path d=\"M120-120v-720h720v720H120Zm60-500h600v-160H180v160Zm220 220h160v-160H400v160Zm0 220h160v-160H400v160ZM180-400h160v-160H180v160Zm440 0h160v-160H620v160ZM180-180h160v-160H180v160Zm440 0h160v-160H620v160Z\"/>\n",
              "  </svg>\n",
              "    </button>\n",
              "\n",
              "  <style>\n",
              "    .colab-df-container {\n",
              "      display:flex;\n",
              "      gap: 12px;\n",
              "    }\n",
              "\n",
              "    .colab-df-convert {\n",
              "      background-color: #E8F0FE;\n",
              "      border: none;\n",
              "      border-radius: 50%;\n",
              "      cursor: pointer;\n",
              "      display: none;\n",
              "      fill: #1967D2;\n",
              "      height: 32px;\n",
              "      padding: 0 0 0 0;\n",
              "      width: 32px;\n",
              "    }\n",
              "\n",
              "    .colab-df-convert:hover {\n",
              "      background-color: #E2EBFA;\n",
              "      box-shadow: 0px 1px 2px rgba(60, 64, 67, 0.3), 0px 1px 3px 1px rgba(60, 64, 67, 0.15);\n",
              "      fill: #174EA6;\n",
              "    }\n",
              "\n",
              "    .colab-df-buttons div {\n",
              "      margin-bottom: 4px;\n",
              "    }\n",
              "\n",
              "    [theme=dark] .colab-df-convert {\n",
              "      background-color: #3B4455;\n",
              "      fill: #D2E3FC;\n",
              "    }\n",
              "\n",
              "    [theme=dark] .colab-df-convert:hover {\n",
              "      background-color: #434B5C;\n",
              "      box-shadow: 0px 1px 3px 1px rgba(0, 0, 0, 0.15);\n",
              "      filter: drop-shadow(0px 1px 2px rgba(0, 0, 0, 0.3));\n",
              "      fill: #FFFFFF;\n",
              "    }\n",
              "  </style>\n",
              "\n",
              "    <script>\n",
              "      const buttonEl =\n",
              "        document.querySelector('#df-d58cfbeb-6a85-45d2-9c26-91b97878ce24 button.colab-df-convert');\n",
              "      buttonEl.style.display =\n",
              "        google.colab.kernel.accessAllowed ? 'block' : 'none';\n",
              "\n",
              "      async function convertToInteractive(key) {\n",
              "        const element = document.querySelector('#df-d58cfbeb-6a85-45d2-9c26-91b97878ce24');\n",
              "        const dataTable =\n",
              "          await google.colab.kernel.invokeFunction('convertToInteractive',\n",
              "                                                    [key], {});\n",
              "        if (!dataTable) return;\n",
              "\n",
              "        const docLinkHtml = 'Like what you see? Visit the ' +\n",
              "          '<a target=\"_blank\" href=https://colab.research.google.com/notebooks/data_table.ipynb>data table notebook</a>'\n",
              "          + ' to learn more about interactive tables.';\n",
              "        element.innerHTML = '';\n",
              "        dataTable['output_type'] = 'display_data';\n",
              "        await google.colab.output.renderOutput(dataTable, element);\n",
              "        const docLink = document.createElement('div');\n",
              "        docLink.innerHTML = docLinkHtml;\n",
              "        element.appendChild(docLink);\n",
              "      }\n",
              "    </script>\n",
              "  </div>\n",
              "\n",
              "\n",
              "    <div id=\"df-fc2522f7-bb37-4a43-bca1-9f5086ec8c20\">\n",
              "      <button class=\"colab-df-quickchart\" onclick=\"quickchart('df-fc2522f7-bb37-4a43-bca1-9f5086ec8c20')\"\n",
              "                title=\"Suggest charts\"\n",
              "                style=\"display:none;\">\n",
              "\n",
              "<svg xmlns=\"http://www.w3.org/2000/svg\" height=\"24px\"viewBox=\"0 0 24 24\"\n",
              "     width=\"24px\">\n",
              "    <g>\n",
              "        <path d=\"M19 3H5c-1.1 0-2 .9-2 2v14c0 1.1.9 2 2 2h14c1.1 0 2-.9 2-2V5c0-1.1-.9-2-2-2zM9 17H7v-7h2v7zm4 0h-2V7h2v10zm4 0h-2v-4h2v4z\"/>\n",
              "    </g>\n",
              "</svg>\n",
              "      </button>\n",
              "\n",
              "<style>\n",
              "  .colab-df-quickchart {\n",
              "      --bg-color: #E8F0FE;\n",
              "      --fill-color: #1967D2;\n",
              "      --hover-bg-color: #E2EBFA;\n",
              "      --hover-fill-color: #174EA6;\n",
              "      --disabled-fill-color: #AAA;\n",
              "      --disabled-bg-color: #DDD;\n",
              "  }\n",
              "\n",
              "  [theme=dark] .colab-df-quickchart {\n",
              "      --bg-color: #3B4455;\n",
              "      --fill-color: #D2E3FC;\n",
              "      --hover-bg-color: #434B5C;\n",
              "      --hover-fill-color: #FFFFFF;\n",
              "      --disabled-bg-color: #3B4455;\n",
              "      --disabled-fill-color: #666;\n",
              "  }\n",
              "\n",
              "  .colab-df-quickchart {\n",
              "    background-color: var(--bg-color);\n",
              "    border: none;\n",
              "    border-radius: 50%;\n",
              "    cursor: pointer;\n",
              "    display: none;\n",
              "    fill: var(--fill-color);\n",
              "    height: 32px;\n",
              "    padding: 0;\n",
              "    width: 32px;\n",
              "  }\n",
              "\n",
              "  .colab-df-quickchart:hover {\n",
              "    background-color: var(--hover-bg-color);\n",
              "    box-shadow: 0 1px 2px rgba(60, 64, 67, 0.3), 0 1px 3px 1px rgba(60, 64, 67, 0.15);\n",
              "    fill: var(--button-hover-fill-color);\n",
              "  }\n",
              "\n",
              "  .colab-df-quickchart-complete:disabled,\n",
              "  .colab-df-quickchart-complete:disabled:hover {\n",
              "    background-color: var(--disabled-bg-color);\n",
              "    fill: var(--disabled-fill-color);\n",
              "    box-shadow: none;\n",
              "  }\n",
              "\n",
              "  .colab-df-spinner {\n",
              "    border: 2px solid var(--fill-color);\n",
              "    border-color: transparent;\n",
              "    border-bottom-color: var(--fill-color);\n",
              "    animation:\n",
              "      spin 1s steps(1) infinite;\n",
              "  }\n",
              "\n",
              "  @keyframes spin {\n",
              "    0% {\n",
              "      border-color: transparent;\n",
              "      border-bottom-color: var(--fill-color);\n",
              "      border-left-color: var(--fill-color);\n",
              "    }\n",
              "    20% {\n",
              "      border-color: transparent;\n",
              "      border-left-color: var(--fill-color);\n",
              "      border-top-color: var(--fill-color);\n",
              "    }\n",
              "    30% {\n",
              "      border-color: transparent;\n",
              "      border-left-color: var(--fill-color);\n",
              "      border-top-color: var(--fill-color);\n",
              "      border-right-color: var(--fill-color);\n",
              "    }\n",
              "    40% {\n",
              "      border-color: transparent;\n",
              "      border-right-color: var(--fill-color);\n",
              "      border-top-color: var(--fill-color);\n",
              "    }\n",
              "    60% {\n",
              "      border-color: transparent;\n",
              "      border-right-color: var(--fill-color);\n",
              "    }\n",
              "    80% {\n",
              "      border-color: transparent;\n",
              "      border-right-color: var(--fill-color);\n",
              "      border-bottom-color: var(--fill-color);\n",
              "    }\n",
              "    90% {\n",
              "      border-color: transparent;\n",
              "      border-bottom-color: var(--fill-color);\n",
              "    }\n",
              "  }\n",
              "</style>\n",
              "\n",
              "      <script>\n",
              "        async function quickchart(key) {\n",
              "          const quickchartButtonEl =\n",
              "            document.querySelector('#' + key + ' button');\n",
              "          quickchartButtonEl.disabled = true;  // To prevent multiple clicks.\n",
              "          quickchartButtonEl.classList.add('colab-df-spinner');\n",
              "          try {\n",
              "            const charts = await google.colab.kernel.invokeFunction(\n",
              "                'suggestCharts', [key], {});\n",
              "          } catch (error) {\n",
              "            console.error('Error during call to suggestCharts:', error);\n",
              "          }\n",
              "          quickchartButtonEl.classList.remove('colab-df-spinner');\n",
              "          quickchartButtonEl.classList.add('colab-df-quickchart-complete');\n",
              "        }\n",
              "        (() => {\n",
              "          let quickchartButtonEl =\n",
              "            document.querySelector('#df-fc2522f7-bb37-4a43-bca1-9f5086ec8c20 button');\n",
              "          quickchartButtonEl.style.display =\n",
              "            google.colab.kernel.accessAllowed ? 'block' : 'none';\n",
              "        })();\n",
              "      </script>\n",
              "    </div>\n",
              "\n",
              "    </div>\n",
              "  </div>\n"
            ],
            "application/vnd.google.colaboratory.intrinsic+json": {
              "type": "dataframe",
              "variable_name": "df",
              "summary": "{\n  \"name\": \"df\",\n  \"rows\": 1000,\n  \"fields\": [\n    {\n      \"column\": \"Memory\",\n      \"properties\": {\n        \"dtype\": \"number\",\n        \"std\": 10,\n        \"min\": 8,\n        \"max\": 32,\n        \"num_unique_values\": 3,\n        \"samples\": [\n          8,\n          32,\n          16\n        ],\n        \"semantic_type\": \"\",\n        \"description\": \"\"\n      }\n    },\n    {\n      \"column\": \"Storage\",\n      \"properties\": {\n        \"dtype\": \"number\",\n        \"std\": 319,\n        \"min\": 256,\n        \"max\": 1024,\n        \"num_unique_values\": 3,\n        \"samples\": [\n          1024,\n          512,\n          256\n        ],\n        \"semantic_type\": \"\",\n        \"description\": \"\"\n      }\n    },\n    {\n      \"column\": \"CPU_class\",\n      \"properties\": {\n        \"dtype\": \"number\",\n        \"std\": 1,\n        \"min\": 0,\n        \"max\": 3,\n        \"num_unique_values\": 4,\n        \"samples\": [\n          0,\n          2,\n          3\n        ],\n        \"semantic_type\": \"\",\n        \"description\": \"\"\n      }\n    },\n    {\n      \"column\": \"Screen_size\",\n      \"properties\": {\n        \"dtype\": \"number\",\n        \"std\": 0.8642781593542302,\n        \"min\": 14.0,\n        \"max\": 16.0,\n        \"num_unique_values\": 3,\n        \"samples\": [\n          16.0,\n          15.6,\n          14.0\n        ],\n        \"semantic_type\": \"\",\n        \"description\": \"\"\n      }\n    },\n    {\n      \"column\": \"year\",\n      \"properties\": {\n        \"dtype\": \"number\",\n        \"std\": 0,\n        \"min\": 2024,\n        \"max\": 2025,\n        \"num_unique_values\": 2,\n        \"samples\": [\n          2024,\n          2025\n        ],\n        \"semantic_type\": \"\",\n        \"description\": \"\"\n      }\n    },\n    {\n      \"column\": \"price\",\n      \"properties\": {\n        \"dtype\": \"number\",\n        \"std\": 32338,\n        \"min\": 69302,\n        \"max\": 195617,\n        \"num_unique_values\": 991,\n        \"samples\": [\n          103885,\n          100702\n        ],\n        \"semantic_type\": \"\",\n        \"description\": \"\"\n      }\n    }\n  ]\n}"
            }
          },
          "metadata": {},
          "execution_count": 30
        }
      ]
    },
    {
      "cell_type": "code",
      "source": [
        "df.shape"
      ],
      "metadata": {
        "colab": {
          "base_uri": "https://localhost:8080/"
        },
        "id": "Ag0rrqwzO-LW",
        "outputId": "f6c2592e-4239-49d2-e99f-7c2d771bb1c9"
      },
      "execution_count": 31,
      "outputs": [
        {
          "output_type": "execute_result",
          "data": {
            "text/plain": [
              "(1000, 6)"
            ]
          },
          "metadata": {},
          "execution_count": 31
        }
      ]
    },
    {
      "cell_type": "code",
      "source": [
        "print(df.isnull().sum())"
      ],
      "metadata": {
        "colab": {
          "base_uri": "https://localhost:8080/"
        },
        "id": "fu-UqLUkO-R8",
        "outputId": "35aa1ecb-f7a6-4245-b502-787f63885b1f"
      },
      "execution_count": 32,
      "outputs": [
        {
          "output_type": "stream",
          "name": "stdout",
          "text": [
            "Memory         0\n",
            "Storage        0\n",
            "CPU_class      0\n",
            "Screen_size    0\n",
            "year           0\n",
            "price          0\n",
            "dtype: int64\n"
          ]
        }
      ]
    },
    {
      "cell_type": "code",
      "source": [
        "plt.figure(figsize=(25,10))\n",
        "\n",
        "san.heatmap(df.corr(), cmap ='YlOrBr', annot=True)\n",
        "plt.title(\"Correlations Between Variables\",size=15)\n"
      ],
      "metadata": {
        "colab": {
          "base_uri": "https://localhost:8080/",
          "height": 700
        },
        "id": "i7QBFK0eO-U2",
        "outputId": "429222b2-ab9e-45a2-bc8b-f790274f2517"
      },
      "execution_count": 33,
      "outputs": [
        {
          "output_type": "execute_result",
          "data": {
            "text/plain": [
              "Text(0.5, 1.0, 'Correlations Between Variables')"
            ]
          },
          "metadata": {},
          "execution_count": 33
        },
        {
          "output_type": "display_data",
          "data": {
            "text/plain": [
              "<Figure size 2500x1000 with 2 Axes>"
            ],
            "image/png": "[encoded data removed]"
          },
          "metadata": {}
        }
      ]
    },
    {
      "cell_type": "code",
      "source": [
        "from sklearn.linear_model import LinearRegression\n",
        "from sklearn.model_selection import train_test_split\n",
        "\n",
        "features = ['Memory', 'Storage', 'CPU_class', 'Screen_size']\n",
        "X = df[features]\n",
        "y = df['price']\n",
        "\n",
        "# Train-test split\n",
        "X_train, X_test, y_train, y_test = train_test_split(X, y, test_size=0.2, random_state=42)\n",
        "\n",
        "# Train model\n",
        "model = LinearRegression()\n",
        "model.fit(X_train, y_train)\n",
        "\n",
        "# Coefficients (how much each feature affects price)\n",
        "for name, coef in zip(features, model.coef_):\n",
        "    print(f\"{name}: {coef:.2f} yen increase per unit\")\n"
      ],
      "metadata": {
        "id": "9t4cw6aEO-YB",
        "colab": {
          "base_uri": "https://localhost:8080/"
        },
        "outputId": "1bb999dd-be24-4022-f114-7e7d46ff487f"
      },
      "execution_count": 34,
      "outputs": [
        {
          "output_type": "stream",
          "name": "stdout",
          "text": [
            "Memory: 1127.42 yen increase per unit\n",
            "Storage: 11.49 yen increase per unit\n",
            "CPU_class: 26951.55 yen increase per unit\n",
            "Screen_size: 1973.22 yen increase per unit\n"
          ]
        }
      ]
    },
    {
      "cell_type": "code",
      "source": [
        "base = {\n",
        "    'Memory': 16,\n",
        "    'Storage': 512,\n",
        "    'CPU_class': 1,\n",
        "    'Screen_size': 14.0\n",
        "}\n",
        "base_price = 111000\n",
        "\n",
        "# Define 4 upgrade options Based on provided requirements\n",
        "upgrades = [\n",
        "    {'name': 'Add 16GB Memory', 'change': {'Memory': 32}, 'cost': 7000},\n",
        "    {'name': 'Add 512GB Storage', 'change': {'Storage': 1024}, 'cost': 5000},\n",
        "    {'name': 'Upgrade CPU_class', 'change': {'CPU_class': 2}, 'cost': 15000},\n",
        "    {'name': 'Increase Screen_size to 16\"', 'change': {'Screen_size': 16.0}, 'cost': 3000}\n",
        "]\n",
        "\n",
        "# Evaluate each upgrade\n",
        "results = []\n",
        "\n",
        "for upgrade in upgrades:\n",
        "    # Create a copy of base specs\n",
        "    test_spec = base.copy()\n",
        "    # Apply the upgrade\n",
        "    test_spec.update(upgrade['change'])\n",
        "    # Predict the new price using your trained model\n",
        "    input_df = pd.DataFrame([test_spec])\n",
        "    predicted_price = model.predict(input_df)[0]\n",
        "    # Calculate gross profit\n",
        "    gross_profit = predicted_price - base_price - upgrade['cost']\n",
        "    results.append({\n",
        "        'Upgrade': upgrade['name'],\n",
        "        'Predicted Price': predicted_price,\n",
        "        'Gross Profit': gross_profit\n",
        "    })\n",
        "\n",
        "# Convert to DataFrame and sort by profit\n",
        "results_df = pd.DataFrame(results)\n",
        "results_df = results_df.sort_values(by='Gross Profit', ascending=False)\n",
        "\n",
        "# Display results\n",
        "print(\"🔍 Simulation Results (Sorted by Gross Profit):\")\n",
        "print(results_df)\n"
      ],
      "metadata": {
        "id": "_GmxYGo_O-bs",
        "colab": {
          "base_uri": "https://localhost:8080/"
        },
        "outputId": "dac10093-872a-4d22-a782-92752d33bc88"
      },
      "execution_count": 35,
      "outputs": [
        {
          "output_type": "stream",
          "name": "stdout",
          "text": [
            "🔍 Simulation Results (Sorted by Gross Profit):\n",
            "                       Upgrade  Predicted Price  Gross Profit\n",
            "2            Upgrade CPU_class    137367.132902  11367.132902\n",
            "0              Add 16GB Memory    128454.281088  10454.281088\n",
            "3  Increase Screen_size to 16\"    114362.026468    362.026468\n",
            "1            Add 512GB Storage    116298.008016    298.008016\n"
          ]
        }
      ]
    },
    {
      "cell_type": "code",
      "source": [
        "top_2 = results_df.head(2)\n",
        "print(\"\\n🏆 Top 2 Most Profitable Upgrades:\")\n",
        "print(top_2)\n"
      ],
      "metadata": {
        "colab": {
          "base_uri": "https://localhost:8080/"
        },
        "id": "5YXORG5uWZ3w",
        "outputId": "4564edf4-9282-49ea-c765-b117343e3ea0"
      },
      "execution_count": 36,
      "outputs": [
        {
          "output_type": "stream",
          "name": "stdout",
          "text": [
            "\n",
            "🏆 Top 2 Most Profitable Upgrades:\n",
            "             Upgrade  Predicted Price  Gross Profit\n",
            "2  Upgrade CPU_class    137367.132902  11367.132902\n",
            "0    Add 16GB Memory    128454.281088  10454.281088\n"
          ]
        }
      ]
    }
  ]
}